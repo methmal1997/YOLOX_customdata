{
 "cells": [
  {
   "cell_type": "code",
   "execution_count": 1,
   "id": "81793243-7625-45f2-9148-925d8a1d5552",
   "metadata": {},
   "outputs": [
    {
     "name": "stdout",
     "output_type": "stream",
     "text": [
      "1.12.0\n"
     ]
    }
   ],
   "source": [
    "import torch as t\n",
    "print(t.__version__)"
   ]
  },
  {
   "cell_type": "code",
   "execution_count": 2,
   "id": "af5da077-77a7-47e8-b871-5539c524449b",
   "metadata": {},
   "outputs": [
    {
     "name": "stdout",
     "output_type": "stream",
     "text": [
      "3.9.7\n"
     ]
    }
   ],
   "source": [
    "from platform import python_version\n",
    "print(python_version())"
   ]
  },
  {
   "cell_type": "code",
   "execution_count": 9,
   "id": "3ddbc871-9645-480b-95a0-f8be465ab6d1",
   "metadata": {
    "pycharm": {
     "name": "#%%\n"
    }
   },
   "outputs": [
    {
     "name": "stdout",
     "output_type": "stream",
     "text": [
      "Cloning into 'YOLOX'...\n",
      "remote: Enumerating objects: 1723, done.\u001B[K\n",
      "remote: Counting objects: 100% (1/1), done.\u001B[K\n",
      "remote: Total 1723 (delta 0), reused 1 (delta 0), pack-reused 1722\u001B[K\n",
      "Receiving objects: 100% (1723/1723), 6.82 MiB | 3.66 MiB/s, done.\n",
      "Resolving deltas: 100% (1025/1025), done.\n"
     ]
    }
   ],
   "source": [
    "# !git clone  https://github.com/Megvii-BaseDetection/YOLOX.git"
   ]
  },
  {
   "cell_type": "code",
   "execution_count": null,
   "id": "a65f5486-4752-466f-b469-2e924c1b175f",
   "metadata": {},
   "outputs": [],
   "source": []
  }
 ],
 "metadata": {
  "kernelspec": {
   "display_name": "Python 3 (ipykernel)",
   "language": "python",
   "name": "python3"
  },
  "language_info": {
   "codemirror_mode": {
    "name": "ipython",
    "version": 3
   },
   "file_extension": ".py",
   "mimetype": "text/x-python",
   "name": "python",
   "nbconvert_exporter": "python",
   "pygments_lexer": "ipython3",
   "version": "3.9.7"
  }
 },
 "nbformat": 4,
 "nbformat_minor": 5
}